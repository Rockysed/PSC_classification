{
 "cells": [
  {
   "cell_type": "markdown",
   "metadata": {},
   "source": [
    "Importing libraries"
   ]
  },
  {
   "cell_type": "code",
   "execution_count": 1,
   "metadata": {},
   "outputs": [],
   "source": [
    "from sklearn.decomposition import PCA\n",
    "import numpy as np\n",
    "import pandas as pd\n",
    "import h5py"
   ]
  },
  {
   "cell_type": "markdown",
   "metadata": {},
   "source": [
    "Loading BTD previously computed"
   ]
  },
  {
   "cell_type": "code",
   "execution_count": 2,
   "metadata": {},
   "outputs": [],
   "source": [
    "new_file = h5py.File(\"../data/csdb_blabeled_reinhold_features/csdb_reinhold_features_correct_btd_complete.h5\", \"r\")\n",
    "\n",
    "btd_complete_scaled = new_file[\"btd_complete_scaled\"][:]\n",
    "\n",
    "new_file.close()"
   ]
  },
  {
   "cell_type": "markdown",
   "metadata": {},
   "source": [
    "Initialize and fit PCA"
   ]
  },
  {
   "cell_type": "code",
   "execution_count": 3,
   "metadata": {},
   "outputs": [],
   "source": [
    "pca = PCA(n_components=10)\n",
    "\n",
    "pc = pca.fit_transform(btd_complete_scaled)"
   ]
  },
  {
   "cell_type": "markdown",
   "metadata": {},
   "source": [
    "Compute eigenvalues, the contribution of each eigenvalue in percentage and the absolute eigenvectors"
   ]
  },
  {
   "cell_type": "code",
   "execution_count": 4,
   "metadata": {},
   "outputs": [],
   "source": [
    "eigenvalues = pca.explained_variance_\n",
    "\n",
    "eigenvalues_ratio = pca.explained_variance_ratio_\n",
    "\n",
    "eigenvectors_absolute = abs(pca.components_)"
   ]
  },
  {
   "cell_type": "markdown",
   "metadata": {},
   "source": [
    "Calculate indeces"
   ]
  },
  {
   "cell_type": "code",
   "execution_count": 5,
   "metadata": {},
   "outputs": [],
   "source": [
    "ind1 = np.argpartition(eigenvectors_absolute[0,:], -100)[-100:]\n",
    "largest_eigenvector_1 = eigenvectors_absolute[0, ind1]\n",
    "\n",
    "ind2 = np.argpartition(eigenvectors_absolute[1,:], -100)[-100:]\n",
    "largest_eigenvector_2 = eigenvectors_absolute[1, ind2]\n",
    "\n",
    "ind3 = np.argpartition(eigenvectors_absolute[2,:], -100)[-100:]\n",
    "largest_eigenvector_3 = eigenvectors_absolute[2, ind3]"
   ]
  },
  {
   "cell_type": "markdown",
   "metadata": {},
   "source": [
    "From linear indeces to upper right matrix indeces"
   ]
  },
  {
   "cell_type": "code",
   "execution_count": 6,
   "metadata": {},
   "outputs": [],
   "source": [
    "r,c = np.triu_indices(142,1)\n",
    "\n",
    "eigen1_r = r[ind1]\n",
    "eigen1_c = c[ind1]\n",
    "\n",
    "eigen2_r = r[ind2]\n",
    "eigen2_c = c[ind2]\n",
    "\n",
    "eigen3_r = r[ind3]\n",
    "eigen3_c = c[ind3]"
   ]
  },
  {
   "cell_type": "markdown",
   "metadata": {},
   "source": [
    "Define function to retrieve windows indeces"
   ]
  },
  {
   "cell_type": "code",
   "execution_count": 7,
   "metadata": {},
   "outputs": [],
   "source": [
    "def BTD_list(a1, a2): \n",
    "    return np.array2string(a1)+\"-\"+np.array2string(a2)"
   ]
  },
  {
   "cell_type": "markdown",
   "metadata": {},
   "source": [
    "Retrieve windows indeces"
   ]
  },
  {
   "cell_type": "code",
   "execution_count": 8,
   "metadata": {},
   "outputs": [],
   "source": [
    "list1 = list(map(BTD_list, eigen1_r, eigen1_c))\n",
    "\n",
    "list2 = list(map(BTD_list, eigen2_r, eigen2_c))\n",
    "\n",
    "list3 = list(map(BTD_list, eigen3_r, eigen3_c))"
   ]
  },
  {
   "cell_type": "markdown",
   "metadata": {},
   "source": [
    "Represent data using Pandas Dataframe"
   ]
  },
  {
   "cell_type": "code",
   "execution_count": 9,
   "metadata": {},
   "outputs": [],
   "source": [
    "d = {'eigenvector 1': list1, 'eigenvector 2': list2, 'eigenvector 3': list3}\n",
    "\n",
    "df = pd.DataFrame(data=d)"
   ]
  },
  {
   "cell_type": "markdown",
   "metadata": {},
   "source": [
    "Print table"
   ]
  },
  {
   "cell_type": "code",
   "execution_count": 10,
   "metadata": {},
   "outputs": [
    {
     "name": "stdout",
     "output_type": "stream",
     "text": [
      "   eigenvector 1 eigenvector 2 eigenvector 3\n",
      "0         17-112        76-126        62-137\n",
      "1         55-107        75-109       108-123\n",
      "2         45-108        80-126       108-124\n",
      "3         29-111        81-121       108-115\n",
      "4         27-111        75-116       108-122\n",
      "5         21-112        76-116       108-125\n",
      "6         46-108        78-121       108-113\n",
      "7         22-111        81-126         13-62\n",
      "8         50-108        76-109       107-113\n",
      "9         21-111        83-126          9-97\n",
      "10        28-111        83-125        60-137\n",
      "11         2-111        83-124       114-120\n",
      "12        23-111        83-123       107-115\n",
      "13        31-111        83-122        10-113\n",
      "14        17-111        83-121        10-122\n",
      "15        20-111        83-120         9-132\n",
      "16        39-117        83-119         9-131\n",
      "17        24-111        83-118        10-123\n",
      "18        49-108        83-116        10-114\n",
      "19        54-107        83-115         9-107\n",
      "20        54-117        83-127        10-124\n",
      "21        22-112        83-114        10-115\n",
      "22        32-111        83-128          9-86\n",
      "23        25-111        83-113         16-62\n",
      "24        44-108        83-129         16-60\n",
      "25        48-108        83-109        10-121\n",
      "26        30-111        75-113        10-109\n",
      "27        26-111        83-130         9-108\n",
      "28        35-112        75-114        10-120\n",
      "29        47-112        75-115         13-60\n",
      "..           ...           ...           ...\n",
      "70        23-112        78-120         9-126\n",
      "71        36-112        78-122       112-134\n",
      "72        51-107        78-123       107-129\n",
      "73        58-112        78-124       107-128\n",
      "74         8-112        78-125       107-127\n",
      "75        57-112        82-114       107-126\n",
      "76        45-107        82-113          9-84\n",
      "77        42-117        82-109       112-133\n",
      "78        53-107        82-108       107-125\n",
      "79        40-112        81-125          9-87\n",
      "80        52-107        81-124       107-124\n",
      "81       117-140        81-123         10-87\n",
      "82        32-112        81-122       107-123\n",
      "83        38-112        80-113         14-60\n",
      "84       107-138        80-114       107-122\n",
      "85        44-107        80-115       112-132\n",
      "86        56-112        80-118       112-131\n",
      "87        49-117        80-119       107-121\n",
      "88        43-117        80-120         10-91\n",
      "89       117-138        80-121         9-125\n",
      "90        46-117        80-122         10-92\n",
      "91        33-112        80-123       107-120\n",
      "92        45-112        80-124       107-119\n",
      "93        47-117        80-125       107-118\n",
      "94        39-112        81-120       114-124\n",
      "95        40-107        81-119       114-123\n",
      "96       112-140        81-113       107-114\n",
      "97       112-139        81-114         9-124\n",
      "98        51-112        81-115         9-123\n",
      "99        20-112        81-118       112-136\n",
      "\n",
      "[100 rows x 3 columns]\n"
     ]
    }
   ],
   "source": [
    "print(df)"
   ]
  },
  {
   "cell_type": "markdown",
   "metadata": {},
   "source": [
    "Variance explained by the first three eigenvectors"
   ]
  },
  {
   "cell_type": "code",
   "execution_count": 11,
   "metadata": {},
   "outputs": [
    {
     "name": "stdout",
     "output_type": "stream",
     "text": [
      "Eigenvector 1 explains: 45.17% of total variance\n",
      "\n",
      "Eigenvector 2 explains: 22.45% of total variance\n",
      "\n",
      "Eigenvector 3 explains: 14.18% of total variance\n",
      "\n"
     ]
    }
   ],
   "source": [
    "for i in range(0, 3):\n",
    "    print(\"Eigenvector %d explains: \" %(i+1) + \"%.2f\" %(eigenvalues_ratio[i]*100) + \"% of total variance\\n\")"
   ]
  }
 ],
 "metadata": {
  "kernelspec": {
   "display_name": "Python 3",
   "language": "python",
   "name": "python3"
  },
  "language_info": {
   "codemirror_mode": {
    "name": "ipython",
    "version": 3
   },
   "file_extension": ".py",
   "mimetype": "text/x-python",
   "name": "python",
   "nbconvert_exporter": "python",
   "pygments_lexer": "ipython3",
   "version": "3.7.1"
  }
 },
 "nbformat": 4,
 "nbformat_minor": 2
}
