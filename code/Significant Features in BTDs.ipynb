{
 "cells": [
  {
   "cell_type": "markdown",
   "metadata": {},
   "source": [
    "Importing libraries"
   ]
  },
  {
   "cell_type": "code",
   "execution_count": 1,
   "metadata": {},
   "outputs": [],
   "source": [
    "from sklearn.decomposition import PCA\n",
    "import numpy as np\n",
    "import pandas as pd\n",
    "import h5py"
   ]
  },
  {
   "cell_type": "markdown",
   "metadata": {},
   "source": [
    "Loading BTD previously computed"
   ]
  },
  {
   "cell_type": "code",
   "execution_count": 2,
   "metadata": {},
   "outputs": [],
   "source": [
    "new_file = h5py.File(\"../data/mipas_blabeled_reinhold_features/rf_mipas_complete\", \"r\")\n",
    "\n",
    "btd_complete_scaled = new_file[\"btd_complete_scaled\"][:]\n",
    "\n",
    "labels_bc = new_file[\"btd_complete_scaled\"][:]\n",
    "\n",
    "new_file.close()"
   ]
  },
  {
   "cell_type": "markdown",
   "metadata": {},
   "source": [
    "Initialize and fit PCA"
   ]
  },
  {
   "cell_type": "code",
   "execution_count": 3,
   "metadata": {},
   "outputs": [],
   "source": [
    "pca = PCA(n_components=10)\n",
    "\n",
    "pc = pca.fit_transform(btd_complete_scaled)"
   ]
  },
  {
   "cell_type": "markdown",
   "metadata": {},
   "source": [
    "Compute eigenvalues, the contribution of each eigenvalue in percentage and the absolute eigenvectors"
   ]
  },
  {
   "cell_type": "code",
   "execution_count": 4,
   "metadata": {},
   "outputs": [],
   "source": [
    "eigenvalues = pca.explained_variance_\n",
    "\n",
    "eigenvalues_ratio = pca.explained_variance_ratio_\n",
    "\n",
    "eigenvectors_absolute = abs(pca.components_)"
   ]
  },
  {
   "cell_type": "markdown",
   "metadata": {},
   "source": [
    "Calculate indices"
   ]
  },
  {
   "cell_type": "code",
   "execution_count": 5,
   "metadata": {},
   "outputs": [],
   "source": [
    "ind1 = np.argpartition(eigenvectors_absolute[0,:], -10)[-10:]\n",
    "largest_eigenvector_1 = eigenvectors_absolute[0, ind1]\n",
    "\n",
    "ind2 = np.argpartition(eigenvectors_absolute[1,:], -10)[-10:]\n",
    "largest_eigenvector_2 = eigenvectors_absolute[1, ind2]\n",
    "\n",
    "ind3 = np.argpartition(eigenvectors_absolute[2,:], -10)[-10:]\n",
    "largest_eigenvector_3 = eigenvectors_absolute[2, ind3]"
   ]
  },
  {
   "cell_type": "markdown",
   "metadata": {},
   "source": [
    "From linear indeces to upper right matrix indeces"
   ]
  },
  {
   "cell_type": "code",
   "execution_count": 6,
   "metadata": {},
   "outputs": [],
   "source": [
    "r,c = np.triu_indices(142,1)\n",
    "\n",
    "eigen1_r = r[ind1]\n",
    "eigen1_c = c[ind1]\n",
    "\n",
    "eigen2_r = r[ind2]\n",
    "eigen2_c = c[ind2]\n",
    "\n",
    "eigen3_r = r[ind3]\n",
    "eigen3_c = c[ind3]"
   ]
  },
  {
   "cell_type": "markdown",
   "metadata": {},
   "source": [
    "Define function to retrieve windows indeces"
   ]
  },
  {
   "cell_type": "code",
   "execution_count": 7,
   "metadata": {},
   "outputs": [],
   "source": [
    "def BTD_list(a1, a2): \n",
    "    return np.array2string(a1)+\"-\"+np.array2string(a2)"
   ]
  },
  {
   "cell_type": "markdown",
   "metadata": {},
   "source": [
    "Retrieve windows indeces"
   ]
  },
  {
   "cell_type": "code",
   "execution_count": 8,
   "metadata": {},
   "outputs": [],
   "source": [
    "list1 = list(map(BTD_list, eigen1_r, eigen1_c))\n",
    "\n",
    "list2 = list(map(BTD_list, eigen2_r, eigen2_c))\n",
    "\n",
    "list3 = list(map(BTD_list, eigen3_r, eigen3_c))"
   ]
  },
  {
   "cell_type": "markdown",
   "metadata": {},
   "source": [
    "Represent data using Pandas Dataframe"
   ]
  },
  {
   "cell_type": "code",
   "execution_count": 9,
   "metadata": {},
   "outputs": [],
   "source": [
    "d = {'eigenvector 1': list1, 'eigenvector 2': list2, 'eigenvector 3': list3}\n",
    "\n",
    "df = pd.DataFrame(data=d)"
   ]
  },
  {
   "cell_type": "markdown",
   "metadata": {},
   "source": [
    "Print table"
   ]
  },
  {
   "cell_type": "code",
   "execution_count": 10,
   "metadata": {},
   "outputs": [
    {
     "name": "stdout",
     "output_type": "stream",
     "text": [
      "  eigenvector 1 eigenvector 2 eigenvector 3\n",
      "0        56-112       110-121        63-137\n",
      "1        55-112       110-118        74-137\n",
      "2        54-112       111-117          2-74\n",
      "3        52-112       109-110          2-77\n",
      "4       112-138       110-115        81-137\n",
      "5        50-112       110-117        77-137\n",
      "6        49-112       110-113        79-137\n",
      "7        53-112        96-109       137-141\n",
      "8        51-112        96-108        65-137\n",
      "9       112-140       110-116        69-137\n"
     ]
    }
   ],
   "source": [
    "print(df)"
   ]
  },
  {
   "cell_type": "markdown",
   "metadata": {},
   "source": [
    "Variance explained by the first three eigenvectors"
   ]
  },
  {
   "cell_type": "code",
   "execution_count": 11,
   "metadata": {},
   "outputs": [
    {
     "name": "stdout",
     "output_type": "stream",
     "text": [
      "Eigenvector 1 explains: 46.11% of total variance\n",
      "\n",
      "Eigenvector 2 explains: 17.22% of total variance\n",
      "\n",
      "Eigenvector 3 explains: 11.43% of total variance\n",
      "\n"
     ]
    }
   ],
   "source": [
    "for i in range(0, 3):\n",
    "    print(\"Eigenvector %d explains: \" %(i+1) + \"%.2f\" %(eigenvalues_ratio[i]*100) + \"% of total variance\\n\")"
   ]
  },
  {
   "cell_type": "markdown",
   "metadata": {},
   "source": [
    "PCA on data without ICE"
   ]
  },
  {
   "cell_type": "code",
   "execution_count": 12,
   "metadata": {},
   "outputs": [],
   "source": [
    "boolean_array = (labels_bc > 1)\n",
    "\n",
    "btd_no_ice = btd_complete_scaled[boolean_array[:, 0], :]\n",
    "\n",
    "pc = pca.fit_transform(btd_no_ice)"
   ]
  },
  {
   "cell_type": "markdown",
   "metadata": {},
   "source": [
    "Compute eigenvalues ratio and eigenvectors"
   ]
  },
  {
   "cell_type": "code",
   "execution_count": 13,
   "metadata": {},
   "outputs": [],
   "source": [
    "eigenvalues_ratio = pca.explained_variance_ratio_\n",
    "\n",
    "eigenvectors_absolute = abs(pca.components_)"
   ]
  },
  {
   "cell_type": "markdown",
   "metadata": {},
   "source": [
    "Calculate indeces"
   ]
  },
  {
   "cell_type": "code",
   "execution_count": 14,
   "metadata": {},
   "outputs": [],
   "source": [
    "ind1 = np.argpartition(eigenvectors_absolute[0,:], -10)[-10:]\n",
    "largest_eigenvector_1 = eigenvectors_absolute[0, ind1]\n",
    "\n",
    "ind2 = np.argpartition(eigenvectors_absolute[1,:], -10)[-10:]\n",
    "largest_eigenvector_2 = eigenvectors_absolute[1, ind2]\n",
    "\n",
    "ind3 = np.argpartition(eigenvectors_absolute[2,:], -10)[-10:]\n",
    "largest_eigenvector_3 = eigenvectors_absolute[2, ind3]"
   ]
  },
  {
   "cell_type": "markdown",
   "metadata": {},
   "source": [
    "From linear indeces to upper right matrix indeces"
   ]
  },
  {
   "cell_type": "code",
   "execution_count": 15,
   "metadata": {},
   "outputs": [],
   "source": [
    "eigen1_r = r[ind1]\n",
    "eigen1_c = c[ind1]\n",
    "\n",
    "eigen2_r = r[ind2]\n",
    "eigen2_c = c[ind2]\n",
    "\n",
    "eigen3_r = r[ind3]\n",
    "eigen3_c = c[ind3]"
   ]
  },
  {
   "cell_type": "markdown",
   "metadata": {},
   "source": [
    "Retrieve windows indeces"
   ]
  },
  {
   "cell_type": "code",
   "execution_count": 16,
   "metadata": {},
   "outputs": [],
   "source": [
    "list1_no_ice = list(map(BTD_list, eigen1_r, eigen1_c))\n",
    "\n",
    "list2_no_ice = list(map(BTD_list, eigen2_r, eigen2_c))\n",
    "\n",
    "list3_no_ice = list(map(BTD_list, eigen3_r, eigen3_c))"
   ]
  },
  {
   "cell_type": "markdown",
   "metadata": {},
   "source": [
    "Dataframe for data without ice"
   ]
  },
  {
   "cell_type": "code",
   "execution_count": 17,
   "metadata": {},
   "outputs": [],
   "source": [
    "d_no_ice = {'eigenvector 1': list1_no_ice, 'eigenvector 2': list2_no_ice, 'eigenvector 3': list3_no_ice}\n",
    "\n",
    "df_no_ice = pd.DataFrame(data=d_no_ice)"
   ]
  },
  {
   "cell_type": "markdown",
   "metadata": {},
   "source": [
    "Print table (no ice)"
   ]
  },
  {
   "cell_type": "code",
   "execution_count": 18,
   "metadata": {},
   "outputs": [
    {
     "name": "stdout",
     "output_type": "stream",
     "text": [
      "  eigenvector 1 eigenvector 2 eigenvector 3\n",
      "0        95-116         13-39         39-62\n",
      "1        95-124        12-139         35-60\n",
      "2        95-123         13-38         38-60\n",
      "3        95-118         12-37         39-60\n",
      "4        98-117         12-36         40-60\n",
      "5        98-118         13-35         37-60\n",
      "6        90-117         13-34         36-60\n",
      "7        98-123         13-36         38-62\n",
      "8        96-117         13-37        62-139\n",
      "9        95-117        13-139        60-139\n"
     ]
    }
   ],
   "source": [
    "print(df_no_ice)"
   ]
  },
  {
   "cell_type": "markdown",
   "metadata": {},
   "source": [
    "Variance explained by the first three eigenvectors"
   ]
  },
  {
   "cell_type": "code",
   "execution_count": 19,
   "metadata": {},
   "outputs": [
    {
     "name": "stdout",
     "output_type": "stream",
     "text": [
      "Eigenvector 1 explains: 42.21% of total variance\n",
      "\n",
      "Eigenvector 2 explains: 11.67% of total variance\n",
      "\n",
      "Eigenvector 3 explains: 5.99% of total variance\n",
      "\n"
     ]
    }
   ],
   "source": [
    "for i in range(0, 3):\n",
    "    print(\"Eigenvector %d explains: \" %(i+1) + \"%.2f\" %(eigenvalues_ratio[i]*100) + \"% of total variance\\n\")"
   ]
  }
 ],
 "metadata": {
  "kernelspec": {
   "display_name": "Python 3",
   "language": "python",
   "name": "python3"
  },
  "language_info": {
   "codemirror_mode": {
    "name": "ipython",
    "version": 3
   },
   "file_extension": ".py",
   "mimetype": "text/x-python",
   "name": "python",
   "nbconvert_exporter": "python",
   "pygments_lexer": "ipython3",
   "version": "3.6.7"
  }
 },
 "nbformat": 4,
 "nbformat_minor": 2
}
