{
 "cells": [
  {
   "cell_type": "markdown",
   "metadata": {},
   "source": [
    "Importing libraries"
   ]
  },
  {
   "cell_type": "code",
   "execution_count": 1,
   "metadata": {},
   "outputs": [
    {
     "name": "stderr",
     "output_type": "stream",
     "text": [
      "Using TensorFlow backend.\n"
     ]
    }
   ],
   "source": [
    "from keras.layers import Dense, Dropout\n",
    "from sklearn.preprocessing import MinMaxScaler\n",
    "from keras.models import Sequential\n",
    "from keras.wrappers.scikit_learn import KerasRegressor\n",
    "import eli5\n",
    "from eli5.sklearn import PermutationImportance\n",
    "import h5py\n",
    "import pandas as pd"
   ]
  },
  {
   "cell_type": "markdown",
   "metadata": {},
   "source": [
    "Open file"
   ]
  },
  {
   "cell_type": "code",
   "execution_count": null,
   "metadata": {},
   "outputs": [],
   "source": [
    "new_file = h5py.File(\"../data/mipas_blabeled_reinhold_features/rf_mipas_complete\", \"r\")"
   ]
  },
  {
   "cell_type": "markdown",
   "metadata": {},
   "source": [
    "Load Brightness Temperature Difference features and labels"
   ]
  },
  {
   "cell_type": "code",
   "execution_count": null,
   "metadata": {},
   "outputs": [],
   "source": [
    "btd_complete_scaled = new_file[\"btd_complete_scaled\"][:]\n",
    "\n",
    "labels = new_file['labels_bc'][:]"
   ]
  },
  {
   "cell_type": "markdown",
   "metadata": {},
   "source": [
    "Close file"
   ]
  },
  {
   "cell_type": "code",
   "execution_count": null,
   "metadata": {},
   "outputs": [],
   "source": [
    "new_file.close()"
   ]
  },
  {
   "cell_type": "markdown",
   "metadata": {},
   "source": [
    "Select training and validation data"
   ]
  },
  {
   "cell_type": "code",
   "execution_count": null,
   "metadata": {},
   "outputs": [],
   "source": [
    "f_test_scaled = btd_complete_scaled[25000:, :]\n",
    "\n",
    "f_train_scaled = btd_complete_scaled[0:25000, :]"
   ]
  },
  {
   "cell_type": "markdown",
   "metadata": {},
   "source": [
    "Scale features between in the range [0, 1]"
   ]
  },
  {
   "cell_type": "code",
   "execution_count": null,
   "metadata": {},
   "outputs": [],
   "source": [
    "f_test_scaled = MinMaxScaler().fit_transform(f_test_scaled)\n",
    "\n",
    "f_train_scaled = MinMaxScaler().fit_transform(f_train_scaled)"
   ]
  },
  {
   "cell_type": "markdown",
   "metadata": {},
   "source": [
    "Define model"
   ]
  },
  {
   "cell_type": "code",
   "execution_count": null,
   "metadata": {},
   "outputs": [],
   "source": [
    "def nn_model():\n",
    "    \"create a model.\"\n",
    "    model = Sequential()\n",
    "    \n",
    "    model.add(Dropout(0.1))\n",
    "\n",
    "    model.add(Dense(output_dim = 500, input_dim=10011, activation='relu'))\n",
    "    \n",
    "    model.add(Dropout(0.1))\n",
    "\n",
    "    model.add(Dense(output_dim = 200, input_dim=500, activation='relu'))\n",
    "\n",
    "    model.add(Dense(output_dim = 100, input_dim=200, activation='relu'))\n",
    "        \n",
    "    model.add(Dense(output_dim = 50, input_dim=100, activation='relu'))\n",
    "    \n",
    "    model.add(Dropout(0.1))\n",
    "    \n",
    "    model.add(Dense(output_dim = 20, input_dim=50, activation='relu'))\n",
    "\n",
    "    model.add(Dense(output_dim = 20, input_dim=20, activation='relu'))\n",
    "    \n",
    "    model.add(Dropout(0.1))\n",
    "    \n",
    "    model.add(Dense(output_dim = 50, input_dim=20, activation='relu'))\n",
    "    \n",
    "    model.add(Dense(output_dim = 100, input_dim=50, activation='relu'))\n",
    "\n",
    "    model.add(Dense(output_dim = 200, input_dim=100, activation='relu'))\n",
    "    \n",
    "    model.add(Dropout(0.1))\n",
    "\n",
    "    model.add(Dense(output_dim = 500, input_dim=200, activation='relu'))\n",
    "    \n",
    "    model.add(Dense(output_dim = 10011, input_dim=500, activation='sigmoid'))\n",
    "\n",
    "    model.compile(loss='mean_squared_error', optimizer='adam')\n",
    "    \n",
    "    return model"
   ]
  },
  {
   "cell_type": "markdown",
   "metadata": {},
   "source": [
    "Fit model on training data"
   ]
  },
  {
   "cell_type": "code",
   "execution_count": null,
   "metadata": {},
   "outputs": [],
   "source": [
    "my_model = KerasRegressor(build_fn=nn_model, epochs=50)\n",
    "\n",
    "my_model.fit(f_train_scaled, f_train_scaled) "
   ]
  },
  {
   "cell_type": "markdown",
   "metadata": {},
   "source": [
    "Permutations computation"
   ]
  },
  {
   "cell_type": "code",
   "execution_count": null,
   "metadata": {},
   "outputs": [],
   "source": [
    "perm = PermutationImportance(my_model, random_state=1).fit(f_train_scaled,f_train_scaled)"
   ]
  },
  {
   "cell_type": "markdown",
   "metadata": {},
   "source": [
    "Create pandas dataframe to deal with features columns and set their id to string (needed by eli5 library)"
   ]
  },
  {
   "cell_type": "code",
   "execution_count": null,
   "metadata": {},
   "outputs": [],
   "source": [
    "df = pd.DataFrame(f_train_scaled)\n",
    "\n",
    "results = [str(i) for i in df.columns]"
   ]
  },
  {
   "cell_type": "markdown",
   "metadata": {},
   "source": [
    "Show features weights"
   ]
  },
  {
   "cell_type": "code",
   "execution_count": null,
   "metadata": {},
   "outputs": [],
   "source": [
    "eli5.show_weights(perm, feature_names = results)"
   ]
  },
  {
   "cell_type": "code",
   "execution_count": null,
   "metadata": {},
   "outputs": [],
   "source": []
  }
 ],
 "metadata": {
  "kernelspec": {
   "display_name": "Python 3",
   "language": "python",
   "name": "python3"
  },
  "language_info": {
   "codemirror_mode": {
    "name": "ipython",
    "version": 3
   },
   "file_extension": ".py",
   "mimetype": "text/x-python",
   "name": "python",
   "nbconvert_exporter": "python",
   "pygments_lexer": "ipython3",
   "version": "3.6.6"
  }
 },
 "nbformat": 4,
 "nbformat_minor": 2
}
